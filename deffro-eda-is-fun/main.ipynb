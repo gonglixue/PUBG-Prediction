{
 "cells": [
  {
   "cell_type": "code",
   "execution_count": 2,
   "metadata": {
    "collapsed": true
   },
   "outputs": [
    {
     "name": "stdout",
     "output_type": "stream",
     "text": [
      "hello\n"
     ]
    }
   ],
   "source": [
    "import numpy as np\n",
    "import pandas as pd\n",
    "import matplotlib.pyplot as plt\n",
    "import seaborn as sns\n",
    "import warnings\n",
    "warnings.filterwarnings(\"ignore\")\n",
    "# print(\"hello\")"
   ]
  },
  {
   "cell_type": "code",
   "execution_count": 6,
   "metadata": {},
   "outputs": [
    {
     "name": "stdout",
     "output_type": "stream",
     "text": [
      "begin load\n"
     ]
    },
    {
     "name": "stdout",
     "output_type": "stream",
     "text": [
      "<class 'pandas.core.frame.DataFrame'>\nRangeIndex: 4446966 entries, 0 to 4446965\nData columns (total 29 columns):\nId                 object\ngroupId            object\nmatchId            object\nassists            int64\nboosts             int64\ndamageDealt        float64\nDBNOs              int64\nheadshotKills      int64\nheals              int64\nkillPlace          int64\nkillPoints         int64\nkills              int64\nkillStreaks        int64\nlongestKill        float64\nmatchDuration      int64\nmatchType          object\nmaxPlace           int64\nnumGroups          int64\nrankPoints         int64\nrevives            int64\nrideDistance       float64\nroadKills          int64\nswimDistance       float64\nteamKills          int64\nvehicleDestroys    int64\nwalkDistance       float64\nweaponsAcquired    int64\nwinPoints          int64\nwinPlacePerc       float64\ndtypes: float64(6), int64(19), object(4)\nmemory usage: 983.9+ MB\nread train csv\n"
     ]
    }
   ],
   "source": [
    "train = pd.read_csv('./data/train_V2.csv')\n",
    "train.info()\n"
   ]
  },
  {
   "cell_type": "code",
   "execution_count": null,
   "metadata": {},
   "outputs": [],
   "source": [
    ""
   ]
  },
  {
   "cell_type": "code",
   "execution_count": null,
   "metadata": {},
   "outputs": [],
   "source": [
    ""
   ]
  }
 ],
 "metadata": {
  "kernelspec": {
   "display_name": "Python 2",
   "language": "python",
   "name": "python2"
  },
  "language_info": {
   "codemirror_mode": {
    "name": "ipython",
    "version": 2.0
   },
   "file_extension": ".py",
   "mimetype": "text/x-python",
   "name": "python",
   "nbconvert_exporter": "python",
   "pygments_lexer": "ipython2",
   "version": "2.7.6"
  }
 },
 "nbformat": 4,
 "nbformat_minor": 0
}